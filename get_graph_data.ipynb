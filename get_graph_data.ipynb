{
 "cells": [
  {
   "cell_type": "code",
   "execution_count": 1,
   "metadata": {},
   "outputs": [
    {
     "name": "stderr",
     "output_type": "stream",
     "text": [
      "c:\\Users\\Lenovo\\anaconda3\\envs\\superduper\\Lib\\site-packages\\torch_cluster\\nearest.py:3: UserWarning: A NumPy version >=1.22.4 and <1.29.0 is required for this version of SciPy (detected version 2.0.0)\n",
      "  import scipy.cluster\n",
      "c:\\Users\\Lenovo\\anaconda3\\envs\\superduper\\Lib\\site-packages\\torch_geometric\\typing.py:83: UserWarning: An issue occurred while importing 'torch-cluster'. Disabling its usage. Stacktrace: numpy.dtype size changed, may indicate binary incompatibility. Expected 96 from C header, got 88 from PyObject\n",
      "  warnings.warn(f\"An issue occurred while importing 'torch-cluster'. \"\n",
      "\n",
      "A module that was compiled using NumPy 1.x cannot be run in\n",
      "NumPy 2.0.0 as it may crash. To support both 1.x and 2.x\n",
      "versions of NumPy, modules must be compiled with NumPy 2.0.\n",
      "Some module may need to rebuild instead e.g. with 'pybind11>=2.12'.\n",
      "\n",
      "If you are a user of the module, the easiest solution will be to\n",
      "downgrade to 'numpy<2' or try to upgrade the affected module.\n",
      "We expect that some modules will need time to support NumPy 2.\n",
      "\n",
      "Traceback (most recent call last):  File \"<frozen runpy>\", line 198, in _run_module_as_main\n",
      "  File \"<frozen runpy>\", line 88, in _run_code\n",
      "  File \"c:\\Users\\Lenovo\\anaconda3\\envs\\superduper\\Lib\\site-packages\\ipykernel_launcher.py\", line 18, in <module>\n",
      "    app.launch_new_instance()\n",
      "  File \"c:\\Users\\Lenovo\\anaconda3\\envs\\superduper\\Lib\\site-packages\\traitlets\\config\\application.py\", line 1075, in launch_instance\n",
      "    app.start()\n",
      "  File \"c:\\Users\\Lenovo\\anaconda3\\envs\\superduper\\Lib\\site-packages\\ipykernel\\kernelapp.py\", line 739, in start\n",
      "    self.io_loop.start()\n",
      "  File \"c:\\Users\\Lenovo\\anaconda3\\envs\\superduper\\Lib\\site-packages\\tornado\\platform\\asyncio.py\", line 205, in start\n",
      "    self.asyncio_loop.run_forever()\n",
      "  File \"c:\\Users\\Lenovo\\anaconda3\\envs\\superduper\\Lib\\asyncio\\base_events.py\", line 641, in run_forever\n",
      "    self._run_once()\n",
      "  File \"c:\\Users\\Lenovo\\anaconda3\\envs\\superduper\\Lib\\asyncio\\base_events.py\", line 1987, in _run_once\n",
      "    handle._run()\n",
      "  File \"c:\\Users\\Lenovo\\anaconda3\\envs\\superduper\\Lib\\asyncio\\events.py\", line 88, in _run\n",
      "    self._context.run(self._callback, *self._args)\n",
      "  File \"c:\\Users\\Lenovo\\anaconda3\\envs\\superduper\\Lib\\site-packages\\ipykernel\\kernelbase.py\", line 545, in dispatch_queue\n",
      "    await self.process_one()\n",
      "  File \"c:\\Users\\Lenovo\\anaconda3\\envs\\superduper\\Lib\\site-packages\\ipykernel\\kernelbase.py\", line 534, in process_one\n",
      "    await dispatch(*args)\n",
      "  File \"c:\\Users\\Lenovo\\anaconda3\\envs\\superduper\\Lib\\site-packages\\ipykernel\\kernelbase.py\", line 437, in dispatch_shell\n",
      "    await result\n",
      "  File \"c:\\Users\\Lenovo\\anaconda3\\envs\\superduper\\Lib\\site-packages\\ipykernel\\ipkernel.py\", line 362, in execute_request\n",
      "    await super().execute_request(stream, ident, parent)\n",
      "  File \"c:\\Users\\Lenovo\\anaconda3\\envs\\superduper\\Lib\\site-packages\\ipykernel\\kernelbase.py\", line 778, in execute_request\n",
      "    reply_content = await reply_content\n",
      "  File \"c:\\Users\\Lenovo\\anaconda3\\envs\\superduper\\Lib\\site-packages\\ipykernel\\ipkernel.py\", line 449, in do_execute\n",
      "    res = shell.run_cell(\n",
      "  File \"c:\\Users\\Lenovo\\anaconda3\\envs\\superduper\\Lib\\site-packages\\ipykernel\\zmqshell.py\", line 549, in run_cell\n",
      "    return super().run_cell(*args, **kwargs)\n",
      "  File \"c:\\Users\\Lenovo\\anaconda3\\envs\\superduper\\Lib\\site-packages\\IPython\\core\\interactiveshell.py\", line 3075, in run_cell\n",
      "    result = self._run_cell(\n",
      "  File \"c:\\Users\\Lenovo\\anaconda3\\envs\\superduper\\Lib\\site-packages\\IPython\\core\\interactiveshell.py\", line 3130, in _run_cell\n",
      "    result = runner(coro)\n",
      "  File \"c:\\Users\\Lenovo\\anaconda3\\envs\\superduper\\Lib\\site-packages\\IPython\\core\\async_helpers.py\", line 128, in _pseudo_sync_runner\n",
      "    coro.send(None)\n",
      "  File \"c:\\Users\\Lenovo\\anaconda3\\envs\\superduper\\Lib\\site-packages\\IPython\\core\\interactiveshell.py\", line 3334, in run_cell_async\n",
      "    has_raised = await self.run_ast_nodes(code_ast.body, cell_name,\n",
      "  File \"c:\\Users\\Lenovo\\anaconda3\\envs\\superduper\\Lib\\site-packages\\IPython\\core\\interactiveshell.py\", line 3517, in run_ast_nodes\n",
      "    if await self.run_code(code, result, async_=asy):\n",
      "  File \"c:\\Users\\Lenovo\\anaconda3\\envs\\superduper\\Lib\\site-packages\\IPython\\core\\interactiveshell.py\", line 3577, in run_code\n",
      "    exec(code_obj, self.user_global_ns, self.user_ns)\n",
      "  File \"C:\\Users\\Lenovo\\AppData\\Local\\Temp\\ipykernel_12900\\102519798.py\", line 1, in <module>\n",
      "    from featurizer import RNAGraphFeaturizer\n",
      "  File \"c:\\Research\\rna_3d\\grnade\\featurizer.py\", line 6, in <module>\n",
      "    import torch_geometric\n",
      "  File \"c:\\Users\\Lenovo\\anaconda3\\envs\\superduper\\Lib\\site-packages\\torch_geometric\\__init__.py\", line 1, in <module>\n",
      "    from ._compile import compile, is_compiling\n",
      "  File \"c:\\Users\\Lenovo\\anaconda3\\envs\\superduper\\Lib\\site-packages\\torch_geometric\\_compile.py\", line 6, in <module>\n",
      "    import torch_geometric.typing\n",
      "  File \"c:\\Users\\Lenovo\\anaconda3\\envs\\superduper\\Lib\\site-packages\\torch_geometric\\typing.py\", line 105, in <module>\n",
      "    import torch_sparse  # noqa\n",
      "  File \"c:\\Users\\Lenovo\\anaconda3\\envs\\superduper\\Lib\\site-packages\\torch_sparse\\__init__.py\", line 40, in <module>\n",
      "    from .tensor import SparseTensor  # noqa\n",
      "  File \"c:\\Users\\Lenovo\\anaconda3\\envs\\superduper\\Lib\\site-packages\\torch_sparse\\tensor.py\", line 5, in <module>\n",
      "    import scipy.sparse\n",
      "  File \"C:\\Users\\Lenovo\\AppData\\Roaming\\Python\\Python312\\site-packages\\scipy\\sparse\\__init__.py\", line 295, in <module>\n",
      "    from ._csr import *\n",
      "  File \"C:\\Users\\Lenovo\\AppData\\Roaming\\Python\\Python312\\site-packages\\scipy\\sparse\\_csr.py\", line 11, in <module>\n",
      "    from ._sparsetools import (csr_tocsc, csr_tobsr, csr_count_blocks,\n"
     ]
    },
    {
     "ename": "ImportError",
     "evalue": "\nA module that was compiled using NumPy 1.x cannot be run in\nNumPy 2.0.0 as it may crash. To support both 1.x and 2.x\nversions of NumPy, modules must be compiled with NumPy 2.0.\nSome module may need to rebuild instead e.g. with 'pybind11>=2.12'.\n\nIf you are a user of the module, the easiest solution will be to\ndowngrade to 'numpy<2' or try to upgrade the affected module.\nWe expect that some modules will need time to support NumPy 2.\n\n",
     "output_type": "error",
     "traceback": [
      "\u001b[1;31m---------------------------------------------------------------------------\u001b[0m",
      "\u001b[1;31mImportError\u001b[0m                               Traceback (most recent call last)",
      "File \u001b[1;32mc:\\Users\\Lenovo\\anaconda3\\envs\\superduper\\Lib\\site-packages\\numpy\\core\\_multiarray_umath.py:44\u001b[0m, in \u001b[0;36m__getattr__\u001b[1;34m(attr_name)\u001b[0m\n\u001b[0;32m     39\u001b[0m     \u001b[38;5;66;03m# Also print the message (with traceback).  This is because old versions\u001b[39;00m\n\u001b[0;32m     40\u001b[0m     \u001b[38;5;66;03m# of NumPy unfortunately set up the import to replace (and hide) the\u001b[39;00m\n\u001b[0;32m     41\u001b[0m     \u001b[38;5;66;03m# error.  The traceback shouldn't be needed, but e.g. pytest plugins\u001b[39;00m\n\u001b[0;32m     42\u001b[0m     \u001b[38;5;66;03m# seem to swallow it and we should be failing anyway...\u001b[39;00m\n\u001b[0;32m     43\u001b[0m     sys\u001b[38;5;241m.\u001b[39mstderr\u001b[38;5;241m.\u001b[39mwrite(msg \u001b[38;5;241m+\u001b[39m tb_msg)\n\u001b[1;32m---> 44\u001b[0m     \u001b[38;5;28;01mraise\u001b[39;00m \u001b[38;5;167;01mImportError\u001b[39;00m(msg)\n\u001b[0;32m     46\u001b[0m ret \u001b[38;5;241m=\u001b[39m \u001b[38;5;28mgetattr\u001b[39m(_multiarray_umath, attr_name, \u001b[38;5;28;01mNone\u001b[39;00m)\n\u001b[0;32m     47\u001b[0m \u001b[38;5;28;01mif\u001b[39;00m ret \u001b[38;5;129;01mis\u001b[39;00m \u001b[38;5;28;01mNone\u001b[39;00m:\n",
      "\u001b[1;31mImportError\u001b[0m: \nA module that was compiled using NumPy 1.x cannot be run in\nNumPy 2.0.0 as it may crash. To support both 1.x and 2.x\nversions of NumPy, modules must be compiled with NumPy 2.0.\nSome module may need to rebuild instead e.g. with 'pybind11>=2.12'.\n\nIf you are a user of the module, the easiest solution will be to\ndowngrade to 'numpy<2' or try to upgrade the affected module.\nWe expect that some modules will need time to support NumPy 2.\n\n"
     ]
    },
    {
     "name": "stderr",
     "output_type": "stream",
     "text": [
      "\n",
      "A module that was compiled using NumPy 1.x cannot be run in\n",
      "NumPy 2.0.0 as it may crash. To support both 1.x and 2.x\n",
      "versions of NumPy, modules must be compiled with NumPy 2.0.\n",
      "Some module may need to rebuild instead e.g. with 'pybind11>=2.12'.\n",
      "\n",
      "If you are a user of the module, the easiest solution will be to\n",
      "downgrade to 'numpy<2' or try to upgrade the affected module.\n",
      "We expect that some modules will need time to support NumPy 2.\n",
      "\n",
      "Traceback (most recent call last):  File \"<frozen runpy>\", line 198, in _run_module_as_main\n",
      "  File \"<frozen runpy>\", line 88, in _run_code\n",
      "  File \"c:\\Users\\Lenovo\\anaconda3\\envs\\superduper\\Lib\\site-packages\\ipykernel_launcher.py\", line 18, in <module>\n",
      "    app.launch_new_instance()\n",
      "  File \"c:\\Users\\Lenovo\\anaconda3\\envs\\superduper\\Lib\\site-packages\\traitlets\\config\\application.py\", line 1075, in launch_instance\n",
      "    app.start()\n",
      "  File \"c:\\Users\\Lenovo\\anaconda3\\envs\\superduper\\Lib\\site-packages\\ipykernel\\kernelapp.py\", line 739, in start\n",
      "    self.io_loop.start()\n",
      "  File \"c:\\Users\\Lenovo\\anaconda3\\envs\\superduper\\Lib\\site-packages\\tornado\\platform\\asyncio.py\", line 205, in start\n",
      "    self.asyncio_loop.run_forever()\n",
      "  File \"c:\\Users\\Lenovo\\anaconda3\\envs\\superduper\\Lib\\asyncio\\base_events.py\", line 641, in run_forever\n",
      "    self._run_once()\n",
      "  File \"c:\\Users\\Lenovo\\anaconda3\\envs\\superduper\\Lib\\asyncio\\base_events.py\", line 1987, in _run_once\n",
      "    handle._run()\n",
      "  File \"c:\\Users\\Lenovo\\anaconda3\\envs\\superduper\\Lib\\asyncio\\events.py\", line 88, in _run\n",
      "    self._context.run(self._callback, *self._args)\n",
      "  File \"c:\\Users\\Lenovo\\anaconda3\\envs\\superduper\\Lib\\site-packages\\ipykernel\\kernelbase.py\", line 545, in dispatch_queue\n",
      "    await self.process_one()\n",
      "  File \"c:\\Users\\Lenovo\\anaconda3\\envs\\superduper\\Lib\\site-packages\\ipykernel\\kernelbase.py\", line 534, in process_one\n",
      "    await dispatch(*args)\n",
      "  File \"c:\\Users\\Lenovo\\anaconda3\\envs\\superduper\\Lib\\site-packages\\ipykernel\\kernelbase.py\", line 437, in dispatch_shell\n",
      "    await result\n",
      "  File \"c:\\Users\\Lenovo\\anaconda3\\envs\\superduper\\Lib\\site-packages\\ipykernel\\ipkernel.py\", line 362, in execute_request\n",
      "    await super().execute_request(stream, ident, parent)\n",
      "  File \"c:\\Users\\Lenovo\\anaconda3\\envs\\superduper\\Lib\\site-packages\\ipykernel\\kernelbase.py\", line 778, in execute_request\n",
      "    reply_content = await reply_content\n",
      "  File \"c:\\Users\\Lenovo\\anaconda3\\envs\\superduper\\Lib\\site-packages\\ipykernel\\ipkernel.py\", line 449, in do_execute\n",
      "    res = shell.run_cell(\n",
      "  File \"c:\\Users\\Lenovo\\anaconda3\\envs\\superduper\\Lib\\site-packages\\ipykernel\\zmqshell.py\", line 549, in run_cell\n",
      "    return super().run_cell(*args, **kwargs)\n",
      "  File \"c:\\Users\\Lenovo\\anaconda3\\envs\\superduper\\Lib\\site-packages\\IPython\\core\\interactiveshell.py\", line 3075, in run_cell\n",
      "    result = self._run_cell(\n",
      "  File \"c:\\Users\\Lenovo\\anaconda3\\envs\\superduper\\Lib\\site-packages\\IPython\\core\\interactiveshell.py\", line 3130, in _run_cell\n",
      "    result = runner(coro)\n",
      "  File \"c:\\Users\\Lenovo\\anaconda3\\envs\\superduper\\Lib\\site-packages\\IPython\\core\\async_helpers.py\", line 128, in _pseudo_sync_runner\n",
      "    coro.send(None)\n",
      "  File \"c:\\Users\\Lenovo\\anaconda3\\envs\\superduper\\Lib\\site-packages\\IPython\\core\\interactiveshell.py\", line 3334, in run_cell_async\n",
      "    has_raised = await self.run_ast_nodes(code_ast.body, cell_name,\n",
      "  File \"c:\\Users\\Lenovo\\anaconda3\\envs\\superduper\\Lib\\site-packages\\IPython\\core\\interactiveshell.py\", line 3517, in run_ast_nodes\n",
      "    if await self.run_code(code, result, async_=asy):\n",
      "  File \"c:\\Users\\Lenovo\\anaconda3\\envs\\superduper\\Lib\\site-packages\\IPython\\core\\interactiveshell.py\", line 3577, in run_code\n",
      "    exec(code_obj, self.user_global_ns, self.user_ns)\n",
      "  File \"C:\\Users\\Lenovo\\AppData\\Local\\Temp\\ipykernel_12900\\102519798.py\", line 1, in <module>\n",
      "    from featurizer import RNAGraphFeaturizer\n",
      "  File \"c:\\Research\\rna_3d\\grnade\\featurizer.py\", line 6, in <module>\n",
      "    import torch_geometric\n",
      "  File \"c:\\Users\\Lenovo\\anaconda3\\envs\\superduper\\Lib\\site-packages\\torch_geometric\\__init__.py\", line 5, in <module>\n",
      "    from .isinstance import is_torch_instance\n",
      "  File \"c:\\Users\\Lenovo\\anaconda3\\envs\\superduper\\Lib\\site-packages\\torch_geometric\\isinstance.py\", line 8, in <module>\n",
      "    import torch._dynamo\n",
      "  File \"c:\\Users\\Lenovo\\anaconda3\\envs\\superduper\\Lib\\site-packages\\torch\\_dynamo\\__init__.py\", line 64, in <module>\n",
      "    torch.manual_seed = disable(torch.manual_seed)\n",
      "  File \"c:\\Users\\Lenovo\\anaconda3\\envs\\superduper\\Lib\\site-packages\\torch\\_dynamo\\decorators.py\", line 50, in disable\n",
      "    return DisableContext()(fn)\n",
      "  File \"c:\\Users\\Lenovo\\anaconda3\\envs\\superduper\\Lib\\site-packages\\torch\\_dynamo\\eval_frame.py\", line 410, in __call__\n",
      "    (filename is None or trace_rules.check(fn))\n",
      "  File \"c:\\Users\\Lenovo\\anaconda3\\envs\\superduper\\Lib\\site-packages\\torch\\_dynamo\\trace_rules.py\", line 3378, in check\n",
      "    return check_verbose(obj, is_inlined_call).skipped\n",
      "  File \"c:\\Users\\Lenovo\\anaconda3\\envs\\superduper\\Lib\\site-packages\\torch\\_dynamo\\trace_rules.py\", line 3361, in check_verbose\n",
      "    rule = torch._dynamo.trace_rules.lookup_inner(\n",
      "  File \"c:\\Users\\Lenovo\\anaconda3\\envs\\superduper\\Lib\\site-packages\\torch\\_dynamo\\trace_rules.py\", line 3442, in lookup_inner\n",
      "    rule = get_torch_obj_rule_map().get(obj, None)\n",
      "  File \"c:\\Users\\Lenovo\\anaconda3\\envs\\superduper\\Lib\\site-packages\\torch\\_dynamo\\trace_rules.py\", line 2782, in get_torch_obj_rule_map\n",
      "    obj = load_object(k)\n",
      "  File \"c:\\Users\\Lenovo\\anaconda3\\envs\\superduper\\Lib\\site-packages\\torch\\_dynamo\\trace_rules.py\", line 2811, in load_object\n",
      "    val = _load_obj_from_str(x[0])\n",
      "  File \"c:\\Users\\Lenovo\\anaconda3\\envs\\superduper\\Lib\\site-packages\\torch\\_dynamo\\trace_rules.py\", line 2795, in _load_obj_from_str\n",
      "    return getattr(importlib.import_module(module), obj_name)\n",
      "  File \"c:\\Users\\Lenovo\\anaconda3\\envs\\superduper\\Lib\\importlib\\__init__.py\", line 90, in import_module\n",
      "    return _bootstrap._gcd_import(name[level:], package, level)\n",
      "  File \"c:\\Users\\Lenovo\\anaconda3\\envs\\superduper\\Lib\\site-packages\\torch\\nested\\_internal\\nested_tensor.py\", line 417, in <module>\n",
      "    values=torch.randn(3, 3, device=\"meta\"),\n",
      "c:\\Users\\Lenovo\\anaconda3\\envs\\superduper\\Lib\\site-packages\\torch\\nested\\_internal\\nested_tensor.py:417: UserWarning: Failed to initialize NumPy: _ARRAY_API not found (Triggered internally at ..\\torch\\csrc\\utils\\tensor_numpy.cpp:84.)\n",
      "  values=torch.randn(3, 3, device=\"meta\"),\n",
      "\n",
      "A module that was compiled using NumPy 1.x cannot be run in\n",
      "NumPy 2.0.0 as it may crash. To support both 1.x and 2.x\n",
      "versions of NumPy, modules must be compiled with NumPy 2.0.\n",
      "Some module may need to rebuild instead e.g. with 'pybind11>=2.12'.\n",
      "\n",
      "If you are a user of the module, the easiest solution will be to\n",
      "downgrade to 'numpy<2' or try to upgrade the affected module.\n",
      "We expect that some modules will need time to support NumPy 2.\n",
      "\n",
      "Traceback (most recent call last):  File \"<frozen runpy>\", line 198, in _run_module_as_main\n",
      "  File \"<frozen runpy>\", line 88, in _run_code\n",
      "  File \"c:\\Users\\Lenovo\\anaconda3\\envs\\superduper\\Lib\\site-packages\\ipykernel_launcher.py\", line 18, in <module>\n",
      "    app.launch_new_instance()\n",
      "  File \"c:\\Users\\Lenovo\\anaconda3\\envs\\superduper\\Lib\\site-packages\\traitlets\\config\\application.py\", line 1075, in launch_instance\n",
      "    app.start()\n",
      "  File \"c:\\Users\\Lenovo\\anaconda3\\envs\\superduper\\Lib\\site-packages\\ipykernel\\kernelapp.py\", line 739, in start\n",
      "    self.io_loop.start()\n",
      "  File \"c:\\Users\\Lenovo\\anaconda3\\envs\\superduper\\Lib\\site-packages\\tornado\\platform\\asyncio.py\", line 205, in start\n",
      "    self.asyncio_loop.run_forever()\n",
      "  File \"c:\\Users\\Lenovo\\anaconda3\\envs\\superduper\\Lib\\asyncio\\base_events.py\", line 641, in run_forever\n",
      "    self._run_once()\n",
      "  File \"c:\\Users\\Lenovo\\anaconda3\\envs\\superduper\\Lib\\asyncio\\base_events.py\", line 1987, in _run_once\n",
      "    handle._run()\n",
      "  File \"c:\\Users\\Lenovo\\anaconda3\\envs\\superduper\\Lib\\asyncio\\events.py\", line 88, in _run\n",
      "    self._context.run(self._callback, *self._args)\n",
      "  File \"c:\\Users\\Lenovo\\anaconda3\\envs\\superduper\\Lib\\site-packages\\ipykernel\\kernelbase.py\", line 545, in dispatch_queue\n",
      "    await self.process_one()\n",
      "  File \"c:\\Users\\Lenovo\\anaconda3\\envs\\superduper\\Lib\\site-packages\\ipykernel\\kernelbase.py\", line 534, in process_one\n",
      "    await dispatch(*args)\n",
      "  File \"c:\\Users\\Lenovo\\anaconda3\\envs\\superduper\\Lib\\site-packages\\ipykernel\\kernelbase.py\", line 437, in dispatch_shell\n",
      "    await result\n",
      "  File \"c:\\Users\\Lenovo\\anaconda3\\envs\\superduper\\Lib\\site-packages\\ipykernel\\ipkernel.py\", line 362, in execute_request\n",
      "    await super().execute_request(stream, ident, parent)\n",
      "  File \"c:\\Users\\Lenovo\\anaconda3\\envs\\superduper\\Lib\\site-packages\\ipykernel\\kernelbase.py\", line 778, in execute_request\n",
      "    reply_content = await reply_content\n",
      "  File \"c:\\Users\\Lenovo\\anaconda3\\envs\\superduper\\Lib\\site-packages\\ipykernel\\ipkernel.py\", line 449, in do_execute\n",
      "    res = shell.run_cell(\n",
      "  File \"c:\\Users\\Lenovo\\anaconda3\\envs\\superduper\\Lib\\site-packages\\ipykernel\\zmqshell.py\", line 549, in run_cell\n",
      "    return super().run_cell(*args, **kwargs)\n",
      "  File \"c:\\Users\\Lenovo\\anaconda3\\envs\\superduper\\Lib\\site-packages\\IPython\\core\\interactiveshell.py\", line 3075, in run_cell\n",
      "    result = self._run_cell(\n",
      "  File \"c:\\Users\\Lenovo\\anaconda3\\envs\\superduper\\Lib\\site-packages\\IPython\\core\\interactiveshell.py\", line 3130, in _run_cell\n",
      "    result = runner(coro)\n",
      "  File \"c:\\Users\\Lenovo\\anaconda3\\envs\\superduper\\Lib\\site-packages\\IPython\\core\\async_helpers.py\", line 128, in _pseudo_sync_runner\n",
      "    coro.send(None)\n",
      "  File \"c:\\Users\\Lenovo\\anaconda3\\envs\\superduper\\Lib\\site-packages\\IPython\\core\\interactiveshell.py\", line 3334, in run_cell_async\n",
      "    has_raised = await self.run_ast_nodes(code_ast.body, cell_name,\n",
      "  File \"c:\\Users\\Lenovo\\anaconda3\\envs\\superduper\\Lib\\site-packages\\IPython\\core\\interactiveshell.py\", line 3517, in run_ast_nodes\n",
      "    if await self.run_code(code, result, async_=asy):\n",
      "  File \"c:\\Users\\Lenovo\\anaconda3\\envs\\superduper\\Lib\\site-packages\\IPython\\core\\interactiveshell.py\", line 3577, in run_code\n",
      "    exec(code_obj, self.user_global_ns, self.user_ns)\n",
      "  File \"C:\\Users\\Lenovo\\AppData\\Local\\Temp\\ipykernel_12900\\102519798.py\", line 1, in <module>\n",
      "    from featurizer import RNAGraphFeaturizer\n",
      "  File \"c:\\Research\\rna_3d\\grnade\\featurizer.py\", line 6, in <module>\n",
      "    import torch_geometric\n",
      "  File \"c:\\Users\\Lenovo\\anaconda3\\envs\\superduper\\Lib\\site-packages\\torch_geometric\\__init__.py\", line 8, in <module>\n",
      "    import torch_geometric.utils\n",
      "  File \"c:\\Users\\Lenovo\\anaconda3\\envs\\superduper\\Lib\\site-packages\\torch_geometric\\utils\\__init__.py\", line 41, in <module>\n",
      "    from .convert import to_scipy_sparse_matrix, from_scipy_sparse_matrix\n",
      "  File \"c:\\Users\\Lenovo\\anaconda3\\envs\\superduper\\Lib\\site-packages\\torch_geometric\\utils\\convert.py\", line 4, in <module>\n",
      "    import scipy.sparse\n",
      "  File \"C:\\Users\\Lenovo\\AppData\\Roaming\\Python\\Python312\\site-packages\\scipy\\sparse\\__init__.py\", line 295, in <module>\n",
      "    from ._csr import *\n",
      "  File \"C:\\Users\\Lenovo\\AppData\\Roaming\\Python\\Python312\\site-packages\\scipy\\sparse\\_csr.py\", line 11, in <module>\n",
      "    from ._sparsetools import (csr_tocsc, csr_tobsr, csr_count_blocks,\n"
     ]
    },
    {
     "ename": "ImportError",
     "evalue": "\nA module that was compiled using NumPy 1.x cannot be run in\nNumPy 2.0.0 as it may crash. To support both 1.x and 2.x\nversions of NumPy, modules must be compiled with NumPy 2.0.\nSome module may need to rebuild instead e.g. with 'pybind11>=2.12'.\n\nIf you are a user of the module, the easiest solution will be to\ndowngrade to 'numpy<2' or try to upgrade the affected module.\nWe expect that some modules will need time to support NumPy 2.\n\n",
     "output_type": "error",
     "traceback": [
      "\u001b[1;31m---------------------------------------------------------------------------\u001b[0m",
      "\u001b[1;31mImportError\u001b[0m                               Traceback (most recent call last)",
      "File \u001b[1;32mc:\\Users\\Lenovo\\anaconda3\\envs\\superduper\\Lib\\site-packages\\numpy\\core\\_multiarray_umath.py:44\u001b[0m, in \u001b[0;36m__getattr__\u001b[1;34m(attr_name)\u001b[0m\n\u001b[0;32m     39\u001b[0m     \u001b[38;5;66;03m# Also print the message (with traceback).  This is because old versions\u001b[39;00m\n\u001b[0;32m     40\u001b[0m     \u001b[38;5;66;03m# of NumPy unfortunately set up the import to replace (and hide) the\u001b[39;00m\n\u001b[0;32m     41\u001b[0m     \u001b[38;5;66;03m# error.  The traceback shouldn't be needed, but e.g. pytest plugins\u001b[39;00m\n\u001b[0;32m     42\u001b[0m     \u001b[38;5;66;03m# seem to swallow it and we should be failing anyway...\u001b[39;00m\n\u001b[0;32m     43\u001b[0m     sys\u001b[38;5;241m.\u001b[39mstderr\u001b[38;5;241m.\u001b[39mwrite(msg \u001b[38;5;241m+\u001b[39m tb_msg)\n\u001b[1;32m---> 44\u001b[0m     \u001b[38;5;28;01mraise\u001b[39;00m \u001b[38;5;167;01mImportError\u001b[39;00m(msg)\n\u001b[0;32m     46\u001b[0m ret \u001b[38;5;241m=\u001b[39m \u001b[38;5;28mgetattr\u001b[39m(_multiarray_umath, attr_name, \u001b[38;5;28;01mNone\u001b[39;00m)\n\u001b[0;32m     47\u001b[0m \u001b[38;5;28;01mif\u001b[39;00m ret \u001b[38;5;129;01mis\u001b[39;00m \u001b[38;5;28;01mNone\u001b[39;00m:\n",
      "\u001b[1;31mImportError\u001b[0m: \nA module that was compiled using NumPy 1.x cannot be run in\nNumPy 2.0.0 as it may crash. To support both 1.x and 2.x\nversions of NumPy, modules must be compiled with NumPy 2.0.\nSome module may need to rebuild instead e.g. with 'pybind11>=2.12'.\n\nIf you are a user of the module, the easiest solution will be to\ndowngrade to 'numpy<2' or try to upgrade the affected module.\nWe expect that some modules will need time to support NumPy 2.\n\n"
     ]
    },
    {
     "ename": "ImportError",
     "evalue": "numpy.core.multiarray failed to import",
     "output_type": "error",
     "traceback": [
      "\u001b[1;31m---------------------------------------------------------------------------\u001b[0m",
      "\u001b[1;31mImportError\u001b[0m                               Traceback (most recent call last)",
      "Cell \u001b[1;32mIn[1], line 1\u001b[0m\n\u001b[1;32m----> 1\u001b[0m \u001b[38;5;28;01mfrom\u001b[39;00m \u001b[38;5;21;01mfeaturizer\u001b[39;00m \u001b[38;5;28;01mimport\u001b[39;00m RNAGraphFeaturizer\n",
      "File \u001b[1;32mc:\\Research\\rna_3d\\grnade\\featurizer.py:6\u001b[0m\n\u001b[0;32m      4\u001b[0m \u001b[38;5;28;01mimport\u001b[39;00m \u001b[38;5;21;01mtorch\u001b[39;00m\n\u001b[0;32m      5\u001b[0m \u001b[38;5;28;01mimport\u001b[39;00m \u001b[38;5;21;01mtorch\u001b[39;00m\u001b[38;5;21;01m.\u001b[39;00m\u001b[38;5;21;01mnn\u001b[39;00m\u001b[38;5;21;01m.\u001b[39;00m\u001b[38;5;21;01mfunctional\u001b[39;00m \u001b[38;5;28;01mas\u001b[39;00m \u001b[38;5;21;01mF\u001b[39;00m\n\u001b[1;32m----> 6\u001b[0m \u001b[38;5;28;01mimport\u001b[39;00m \u001b[38;5;21;01mtorch_geometric\u001b[39;00m\n\u001b[0;32m      7\u001b[0m \u001b[38;5;28;01mfrom\u001b[39;00m \u001b[38;5;21;01mtorch_geometric\u001b[39;00m\u001b[38;5;21;01m.\u001b[39;00m\u001b[38;5;21;01mutils\u001b[39;00m \u001b[38;5;28;01mimport\u001b[39;00m coalesce, to_undirected\n\u001b[0;32m      8\u001b[0m \u001b[38;5;28;01mimport\u001b[39;00m \u001b[38;5;21;01mtorch_cluster\u001b[39;00m\n",
      "File \u001b[1;32mc:\\Users\\Lenovo\\anaconda3\\envs\\superduper\\Lib\\site-packages\\torch_geometric\\__init__.py:8\u001b[0m\n\u001b[0;32m      5\u001b[0m \u001b[38;5;28;01mfrom\u001b[39;00m \u001b[38;5;21;01m.\u001b[39;00m\u001b[38;5;21;01misinstance\u001b[39;00m \u001b[38;5;28;01mimport\u001b[39;00m is_torch_instance\n\u001b[0;32m      6\u001b[0m \u001b[38;5;28;01mfrom\u001b[39;00m \u001b[38;5;21;01m.\u001b[39;00m\u001b[38;5;21;01mdebug\u001b[39;00m \u001b[38;5;28;01mimport\u001b[39;00m is_debug_enabled, debug, set_debug\n\u001b[1;32m----> 8\u001b[0m \u001b[38;5;28;01mimport\u001b[39;00m \u001b[38;5;21;01mtorch_geometric\u001b[39;00m\u001b[38;5;21;01m.\u001b[39;00m\u001b[38;5;21;01mutils\u001b[39;00m\n\u001b[0;32m      9\u001b[0m \u001b[38;5;28;01mimport\u001b[39;00m \u001b[38;5;21;01mtorch_geometric\u001b[39;00m\u001b[38;5;21;01m.\u001b[39;00m\u001b[38;5;21;01mdata\u001b[39;00m\n\u001b[0;32m     10\u001b[0m \u001b[38;5;28;01mimport\u001b[39;00m \u001b[38;5;21;01mtorch_geometric\u001b[39;00m\u001b[38;5;21;01m.\u001b[39;00m\u001b[38;5;21;01msampler\u001b[39;00m\n",
      "File \u001b[1;32mc:\\Users\\Lenovo\\anaconda3\\envs\\superduper\\Lib\\site-packages\\torch_geometric\\utils\\__init__.py:41\u001b[0m\n\u001b[0;32m     39\u001b[0m \u001b[38;5;28;01mfrom\u001b[39;00m \u001b[38;5;21;01m.\u001b[39;00m\u001b[38;5;21;01m_grid\u001b[39;00m \u001b[38;5;28;01mimport\u001b[39;00m grid\n\u001b[0;32m     40\u001b[0m \u001b[38;5;28;01mfrom\u001b[39;00m \u001b[38;5;21;01m.\u001b[39;00m\u001b[38;5;21;01mgeodesic\u001b[39;00m \u001b[38;5;28;01mimport\u001b[39;00m geodesic_distance\n\u001b[1;32m---> 41\u001b[0m \u001b[38;5;28;01mfrom\u001b[39;00m \u001b[38;5;21;01m.\u001b[39;00m\u001b[38;5;21;01mconvert\u001b[39;00m \u001b[38;5;28;01mimport\u001b[39;00m to_scipy_sparse_matrix, from_scipy_sparse_matrix\n\u001b[0;32m     42\u001b[0m \u001b[38;5;28;01mfrom\u001b[39;00m \u001b[38;5;21;01m.\u001b[39;00m\u001b[38;5;21;01mconvert\u001b[39;00m \u001b[38;5;28;01mimport\u001b[39;00m to_networkx, from_networkx\n\u001b[0;32m     43\u001b[0m \u001b[38;5;28;01mfrom\u001b[39;00m \u001b[38;5;21;01m.\u001b[39;00m\u001b[38;5;21;01mconvert\u001b[39;00m \u001b[38;5;28;01mimport\u001b[39;00m to_networkit, from_networkit\n",
      "File \u001b[1;32mc:\\Users\\Lenovo\\anaconda3\\envs\\superduper\\Lib\\site-packages\\torch_geometric\\utils\\convert.py:4\u001b[0m\n\u001b[0;32m      1\u001b[0m \u001b[38;5;28;01mfrom\u001b[39;00m \u001b[38;5;21;01mcollections\u001b[39;00m \u001b[38;5;28;01mimport\u001b[39;00m defaultdict\n\u001b[0;32m      2\u001b[0m \u001b[38;5;28;01mfrom\u001b[39;00m \u001b[38;5;21;01mtyping\u001b[39;00m \u001b[38;5;28;01mimport\u001b[39;00m Any, Dict, Iterable, List, Literal, Optional, Tuple, Union\n\u001b[1;32m----> 4\u001b[0m \u001b[38;5;28;01mimport\u001b[39;00m \u001b[38;5;21;01mscipy\u001b[39;00m\u001b[38;5;21;01m.\u001b[39;00m\u001b[38;5;21;01msparse\u001b[39;00m\n\u001b[0;32m      5\u001b[0m \u001b[38;5;28;01mimport\u001b[39;00m \u001b[38;5;21;01mtorch\u001b[39;00m\n\u001b[0;32m      6\u001b[0m \u001b[38;5;28;01mfrom\u001b[39;00m \u001b[38;5;21;01mtorch\u001b[39;00m \u001b[38;5;28;01mimport\u001b[39;00m Tensor\n",
      "File \u001b[1;32m~\\AppData\\Roaming\\Python\\Python312\\site-packages\\scipy\\sparse\\__init__.py:295\u001b[0m\n\u001b[0;32m    292\u001b[0m \u001b[38;5;28;01mimport\u001b[39;00m \u001b[38;5;21;01mwarnings\u001b[39;00m \u001b[38;5;28;01mas\u001b[39;00m \u001b[38;5;21;01m_warnings\u001b[39;00m\n\u001b[0;32m    294\u001b[0m \u001b[38;5;28;01mfrom\u001b[39;00m \u001b[38;5;21;01m.\u001b[39;00m\u001b[38;5;21;01m_base\u001b[39;00m \u001b[38;5;28;01mimport\u001b[39;00m \u001b[38;5;241m*\u001b[39m\n\u001b[1;32m--> 295\u001b[0m \u001b[38;5;28;01mfrom\u001b[39;00m \u001b[38;5;21;01m.\u001b[39;00m\u001b[38;5;21;01m_csr\u001b[39;00m \u001b[38;5;28;01mimport\u001b[39;00m \u001b[38;5;241m*\u001b[39m\n\u001b[0;32m    296\u001b[0m \u001b[38;5;28;01mfrom\u001b[39;00m \u001b[38;5;21;01m.\u001b[39;00m\u001b[38;5;21;01m_csc\u001b[39;00m \u001b[38;5;28;01mimport\u001b[39;00m \u001b[38;5;241m*\u001b[39m\n\u001b[0;32m    297\u001b[0m \u001b[38;5;28;01mfrom\u001b[39;00m \u001b[38;5;21;01m.\u001b[39;00m\u001b[38;5;21;01m_lil\u001b[39;00m \u001b[38;5;28;01mimport\u001b[39;00m \u001b[38;5;241m*\u001b[39m\n",
      "File \u001b[1;32m~\\AppData\\Roaming\\Python\\Python312\\site-packages\\scipy\\sparse\\_csr.py:11\u001b[0m\n\u001b[0;32m      9\u001b[0m \u001b[38;5;28;01mfrom\u001b[39;00m \u001b[38;5;21;01m.\u001b[39;00m\u001b[38;5;21;01m_matrix\u001b[39;00m \u001b[38;5;28;01mimport\u001b[39;00m spmatrix\n\u001b[0;32m     10\u001b[0m \u001b[38;5;28;01mfrom\u001b[39;00m \u001b[38;5;21;01m.\u001b[39;00m\u001b[38;5;21;01m_base\u001b[39;00m \u001b[38;5;28;01mimport\u001b[39;00m _spbase, sparray\n\u001b[1;32m---> 11\u001b[0m \u001b[38;5;28;01mfrom\u001b[39;00m \u001b[38;5;21;01m.\u001b[39;00m\u001b[38;5;21;01m_sparsetools\u001b[39;00m \u001b[38;5;28;01mimport\u001b[39;00m (csr_tocsc, csr_tobsr, csr_count_blocks,\n\u001b[0;32m     12\u001b[0m                            get_csr_submatrix)\n\u001b[0;32m     13\u001b[0m \u001b[38;5;28;01mfrom\u001b[39;00m \u001b[38;5;21;01m.\u001b[39;00m\u001b[38;5;21;01m_sputils\u001b[39;00m \u001b[38;5;28;01mimport\u001b[39;00m upcast\n\u001b[0;32m     15\u001b[0m \u001b[38;5;28;01mfrom\u001b[39;00m \u001b[38;5;21;01m.\u001b[39;00m\u001b[38;5;21;01m_compressed\u001b[39;00m \u001b[38;5;28;01mimport\u001b[39;00m _cs_matrix\n",
      "\u001b[1;31mImportError\u001b[0m: numpy.core.multiarray failed to import"
     ]
    }
   ],
   "source": [
    "from featurizer import RNAGraphFeaturizer"
   ]
  },
  {
   "cell_type": "code",
   "execution_count": 2,
   "metadata": {},
   "outputs": [
    {
     "ename": "NameError",
     "evalue": "name 'RNAGraphFeaturizer' is not defined",
     "output_type": "error",
     "traceback": [
      "\u001b[1;31m---------------------------------------------------------------------------\u001b[0m",
      "\u001b[1;31mNameError\u001b[0m                                 Traceback (most recent call last)",
      "Cell \u001b[1;32mIn[2], line 17\u001b[0m\n\u001b[0;32m     14\u001b[0m all_pdb_files \u001b[38;5;241m=\u001b[39m glob\u001b[38;5;241m.\u001b[39mglob(os\u001b[38;5;241m.\u001b[39mpath\u001b[38;5;241m.\u001b[39mjoin(pdb_files_directory, \u001b[38;5;124m\"\u001b[39m\u001b[38;5;124m*\u001b[39m\u001b[38;5;124m\"\u001b[39m))\n\u001b[0;32m     16\u001b[0m \u001b[38;5;66;03m# Initialize featurizer\u001b[39;00m\n\u001b[1;32m---> 17\u001b[0m featurizer \u001b[38;5;241m=\u001b[39m \u001b[43mRNAGraphFeaturizer\u001b[49m()\n\u001b[0;32m     19\u001b[0m \u001b[38;5;66;03m# Process each PDB file\u001b[39;00m\n\u001b[0;32m     20\u001b[0m \u001b[38;5;28;01mfor\u001b[39;00m pdb_file \u001b[38;5;129;01min\u001b[39;00m tqdm(all_pdb_files):\n",
      "\u001b[1;31mNameError\u001b[0m: name 'RNAGraphFeaturizer' is not defined"
     ]
    }
   ],
   "source": [
    "import glob\n",
    "import os\n",
    "import zipfile\n",
    "from tqdm import tqdm\n",
    "\n",
    "# Define paths\n",
    "pdb_files_directory = r\"C:\\Research\\rna_3d\\RNASOLO_PDB_FILES\"\n",
    "output_directory = r\"C:\\Research\\rna_3d\\graph_pdb_files\"\n",
    "\n",
    "# Ensure output directory exists or create it\n",
    "os.makedirs(output_directory, exist_ok=True)\n",
    "\n",
    "# Collect all PDB file paths\n",
    "all_pdb_files = glob.glob(os.path.join(pdb_files_directory, \"*\"))\n",
    "\n",
    "# Initialize featurizer\n",
    "featurizer = RNAGraphFeaturizer()\n",
    "\n",
    "# Process each PDB file\n",
    "for pdb_file in tqdm(all_pdb_files):\n",
    "    try:\n",
    "        # Featurize from PDB file\n",
    "        graph_data = featurizer.featurize_from_pdb_file(pdb_file)\n",
    "\n",
    "        # Extract filename without extension\n",
    "        filename = os.path.splitext(os.path.basename(pdb_file))[0]\n",
    "\n",
    "        # Create a zip file for each graph data\n",
    "        zip_file_path = os.path.join(output_directory, f\"{filename}.zip\")\n",
    "        with zipfile.ZipFile(zip_file_path, 'w', zipfile.ZIP_DEFLATED) as zipf:\n",
    "            # Write graph data to a temporary file in the ZIP archive\n",
    "            zipf.writestr(f\"{filename}.graph\", str(graph_data))\n",
    "\n",
    "    except Exception as e:\n",
    "        print(f\"Error processing {pdb_file}: {e}\")\n",
    "\n",
    "print(\"Graph data saved in zipped format in 'graph_pdb_files' folder.\")\n"
   ]
  },
  {
   "cell_type": "code",
   "execution_count": 21,
   "metadata": {},
   "outputs": [
    {
     "name": "stderr",
     "output_type": "stream",
     "text": [
      "  1%|          | 71/13223 [00:01<04:55, 44.46it/s]"
     ]
    },
    {
     "name": "stdout",
     "output_type": "stream",
     "text": [
      "Error processing C:\\Research\\rna_3d\\RNASOLO_PDB_FILES_NOISED\\1E8S_1_C.pdb: index 3 is out of bounds for dimension 0 with size 1\n",
      "Error processing C:\\Research\\rna_3d\\RNASOLO_PDB_FILES_NOISED\\1EG0_1_O.pdb: index 3 is out of bounds for dimension 0 with size 1\n"
     ]
    },
    {
     "name": "stderr",
     "output_type": "stream",
     "text": [
      "  2%|▏         | 205/13223 [00:15<16:01, 13.54it/s]"
     ]
    },
    {
     "name": "stdout",
     "output_type": "stream",
     "text": [
      "Error processing C:\\Research\\rna_3d\\RNASOLO_PDB_FILES_NOISED\\1JGO_1_A.pdb: index 20 is out of bounds for dimension 0 with size 6\n"
     ]
    },
    {
     "name": "stderr",
     "output_type": "stream",
     "text": [
      "  2%|▏         | 209/13223 [00:15<18:25, 11.77it/s]"
     ]
    },
    {
     "name": "stdout",
     "output_type": "stream",
     "text": [
      "Error processing C:\\Research\\rna_3d\\RNASOLO_PDB_FILES_NOISED\\1JGP_1_A.pdb: index 20 is out of bounds for dimension 0 with size 6\n"
     ]
    },
    {
     "name": "stderr",
     "output_type": "stream",
     "text": [
      "  2%|▏         | 212/13223 [00:16<20:26, 10.61it/s]"
     ]
    },
    {
     "name": "stdout",
     "output_type": "stream",
     "text": [
      "Error processing C:\\Research\\rna_3d\\RNASOLO_PDB_FILES_NOISED\\1JGQ_1_A.pdb: index 20 is out of bounds for dimension 0 with size 6\n"
     ]
    },
    {
     "name": "stderr",
     "output_type": "stream",
     "text": [
      "  2%|▏         | 270/13223 [00:28<12:35, 17.14it/s]  "
     ]
    },
    {
     "name": "stdout",
     "output_type": "stream",
     "text": [
      "Error processing C:\\Research\\rna_3d\\RNASOLO_PDB_FILES_NOISED\\1LS2_1_B.pdb: index 3 is out of bounds for dimension 0 with size 1\n"
     ]
    },
    {
     "name": "stderr",
     "output_type": "stream",
     "text": [
      "  3%|▎         | 444/13223 [00:53<16:22, 13.01it/s]  "
     ]
    },
    {
     "name": "stdout",
     "output_type": "stream",
     "text": [
      "Error processing C:\\Research\\rna_3d\\RNASOLO_PDB_FILES_NOISED\\1QZA_1_B.pdb: index 3 is out of bounds for dimension 0 with size 1\n",
      "Error processing C:\\Research\\rna_3d\\RNASOLO_PDB_FILES_NOISED\\1QZB_1_B.pdb: index 3 is out of bounds for dimension 0 with size 1\n"
     ]
    },
    {
     "name": "stderr",
     "output_type": "stream",
     "text": [
      "  8%|▊         | 1011/13223 [01:51<05:28, 37.13it/s] "
     ]
    },
    {
     "name": "stdout",
     "output_type": "stream",
     "text": [
      "Error processing C:\\Research\\rna_3d\\RNASOLO_PDB_FILES_NOISED\\2IY3_1_B.pdb: index 3 is out of bounds for dimension 0 with size 1\n"
     ]
    },
    {
     "name": "stderr",
     "output_type": "stream",
     "text": [
      "  9%|▉         | 1167/13223 [02:06<05:28, 36.70it/s]  "
     ]
    },
    {
     "name": "stdout",
     "output_type": "stream",
     "text": [
      "Error processing C:\\Research\\rna_3d\\RNASOLO_PDB_FILES_NOISED\\2R7V_1_X.pdb: index 20 is out of bounds for dimension 0 with size 20\n"
     ]
    },
    {
     "name": "stderr",
     "output_type": "stream",
     "text": [
      "  9%|▉         | 1173/13223 [02:06<05:45, 34.83it/s]"
     ]
    },
    {
     "name": "stdout",
     "output_type": "stream",
     "text": [
      "Error processing C:\\Research\\rna_3d\\RNASOLO_PDB_FILES_NOISED\\2RDO_1_A.pdb: index 3 is out of bounds for dimension 0 with size 1\n",
      "Error processing C:\\Research\\rna_3d\\RNASOLO_PDB_FILES_NOISED\\2RDO_1_B.pdb: index 20 is out of bounds for dimension 0 with size 1\n"
     ]
    },
    {
     "name": "stderr",
     "output_type": "stream",
     "text": [
      "  9%|▉         | 1211/13223 [02:09<08:08, 24.61it/s]"
     ]
    },
    {
     "name": "stdout",
     "output_type": "stream",
     "text": [
      "Error processing C:\\Research\\rna_3d\\RNASOLO_PDB_FILES_NOISED\\2VOP_1_B.pdb: index 20 is out of bounds for dimension 0 with size 20\n"
     ]
    },
    {
     "name": "stderr",
     "output_type": "stream",
     "text": [
      " 11%|█         | 1472/13223 [02:38<27:42,  7.07it/s]  "
     ]
    },
    {
     "name": "stdout",
     "output_type": "stream",
     "text": [
      "Error processing C:\\Research\\rna_3d\\RNASOLO_PDB_FILES_NOISED\\3CW1_1_V.pdb: index 3 is out of bounds for dimension 0 with size 1\n",
      "Error processing C:\\Research\\rna_3d\\RNASOLO_PDB_FILES_NOISED\\3CW1_1_w.pdb: index 3 is out of bounds for dimension 0 with size 1\n",
      "Error processing C:\\Research\\rna_3d\\RNASOLO_PDB_FILES_NOISED\\3CW1_1_x.pdb: index 3 is out of bounds for dimension 0 with size 1\n"
     ]
    },
    {
     "name": "stderr",
     "output_type": "stream",
     "text": [
      " 11%|█▏        | 1495/13223 [02:40<14:22, 13.60it/s]"
     ]
    },
    {
     "name": "stdout",
     "output_type": "stream",
     "text": [
      "Error processing C:\\Research\\rna_3d\\RNASOLO_PDB_FILES_NOISED\\3DG0_1_A.pdb: index 20 is out of bounds for dimension 0 with size 1\n",
      "Error processing C:\\Research\\rna_3d\\RNASOLO_PDB_FILES_NOISED\\3DG0_1_B.pdb: index 20 is out of bounds for dimension 0 with size 1\n",
      "Error processing C:\\Research\\rna_3d\\RNASOLO_PDB_FILES_NOISED\\3DG2_1_A.pdb: index 3 is out of bounds for dimension 0 with size 1\n"
     ]
    },
    {
     "name": "stderr",
     "output_type": "stream",
     "text": [
      " 11%|█▏        | 1498/13223 [02:42<37:37,  5.19it/s]"
     ]
    },
    {
     "name": "stdout",
     "output_type": "stream",
     "text": [
      "Error processing C:\\Research\\rna_3d\\RNASOLO_PDB_FILES_NOISED\\3DG2_1_B.pdb: index 20 is out of bounds for dimension 0 with size 1\n",
      "Error processing C:\\Research\\rna_3d\\RNASOLO_PDB_FILES_NOISED\\3DG4_1_A.pdb: index 20 is out of bounds for dimension 0 with size 1\n"
     ]
    },
    {
     "name": "stderr",
     "output_type": "stream",
     "text": [
      " 11%|█▏        | 1500/13223 [02:42<47:53,  4.08it/s]"
     ]
    },
    {
     "name": "stdout",
     "output_type": "stream",
     "text": [
      "Error processing C:\\Research\\rna_3d\\RNASOLO_PDB_FILES_NOISED\\3DG4_1_B.pdb: index 3 is out of bounds for dimension 0 with size 1\n",
      "Error processing C:\\Research\\rna_3d\\RNASOLO_PDB_FILES_NOISED\\3DG5_1_A.pdb: index 20 is out of bounds for dimension 0 with size 1\n"
     ]
    },
    {
     "name": "stderr",
     "output_type": "stream",
     "text": [
      " 11%|█▏        | 1505/13223 [02:43<41:15,  4.73it/s]"
     ]
    },
    {
     "name": "stdout",
     "output_type": "stream",
     "text": [
      "Error processing C:\\Research\\rna_3d\\RNASOLO_PDB_FILES_NOISED\\3DG5_1_B.pdb: index 20 is out of bounds for dimension 0 with size 1\n"
     ]
    },
    {
     "name": "stderr",
     "output_type": "stream",
     "text": [
      " 13%|█▎        | 1725/13223 [03:11<1:17:33,  2.47it/s]"
     ]
    },
    {
     "name": "stdout",
     "output_type": "stream",
     "text": [
      "Error processing C:\\Research\\rna_3d\\RNASOLO_PDB_FILES_NOISED\\3J6X_1_IR.pdb: index 3 is out of bounds for dimension 0 with size 1\n"
     ]
    },
    {
     "name": "stderr",
     "output_type": "stream",
     "text": [
      " 13%|█▎        | 1728/13223 [03:13<1:42:01,  1.88it/s]"
     ]
    },
    {
     "name": "stdout",
     "output_type": "stream",
     "text": [
      "Error processing C:\\Research\\rna_3d\\RNASOLO_PDB_FILES_NOISED\\3J6Y_1_IR.pdb: index 3 is out of bounds for dimension 0 with size 1\n"
     ]
    },
    {
     "name": "stderr",
     "output_type": "stream",
     "text": [
      " 14%|█▍        | 1851/13223 [04:01<46:07,  4.11it/s]  "
     ]
    },
    {
     "name": "stdout",
     "output_type": "stream",
     "text": [
      "Error processing C:\\Research\\rna_3d\\RNASOLO_PDB_FILES_NOISED\\3JCR_1_M.pdb: index 3 is out of bounds for dimension 0 with size 1\n"
     ]
    },
    {
     "name": "stderr",
     "output_type": "stream",
     "text": [
      " 14%|█▍        | 1915/13223 [04:06<06:30, 28.98it/s]  "
     ]
    },
    {
     "name": "stdout",
     "output_type": "stream",
     "text": [
      "Error processing C:\\Research\\rna_3d\\RNASOLO_PDB_FILES_NOISED\\3LOB_1_R.pdb: index 20 is out of bounds for dimension 0 with size 20\n"
     ]
    },
    {
     "name": "stderr",
     "output_type": "stream",
     "text": [
      " 16%|█▌        | 2060/13223 [04:11<04:36, 40.33it/s]"
     ]
    },
    {
     "name": "stdout",
     "output_type": "stream",
     "text": [
      "Error processing C:\\Research\\rna_3d\\RNASOLO_PDB_FILES_NOISED\\3PGW_1_N.pdb: index 3 is out of bounds for dimension 0 with size 1\n",
      "Error processing C:\\Research\\rna_3d\\RNASOLO_PDB_FILES_NOISED\\3PGW_1_R.pdb: index 3 is out of bounds for dimension 0 with size 1\n"
     ]
    },
    {
     "name": "stderr",
     "output_type": "stream",
     "text": [
      " 18%|█▊        | 2371/13223 [04:26<18:50,  9.60it/s]"
     ]
    },
    {
     "name": "stdout",
     "output_type": "stream",
     "text": [
      "Error processing C:\\Research\\rna_3d\\RNASOLO_PDB_FILES_NOISED\\4BBL_1_Y.pdb: index 3 is out of bounds for dimension 0 with size 1\n",
      "Error processing C:\\Research\\rna_3d\\RNASOLO_PDB_FILES_NOISED\\4BBL_1_Z.pdb: index 3 is out of bounds for dimension 0 with size 1\n"
     ]
    },
    {
     "name": "stderr",
     "output_type": "stream",
     "text": [
      " 25%|██▌       | 3316/13223 [07:47<28:10,  5.86it/s]  "
     ]
    },
    {
     "name": "stdout",
     "output_type": "stream",
     "text": [
      "Error processing C:\\Research\\rna_3d\\RNASOLO_PDB_FILES_NOISED\\4V42_1_AA.pdb: index 20 is out of bounds for dimension 0 with size 6\n"
     ]
    },
    {
     "name": "stderr",
     "output_type": "stream",
     "text": [
      " 25%|██▌       | 3319/13223 [07:48<30:23,  5.43it/s]"
     ]
    },
    {
     "name": "stdout",
     "output_type": "stream",
     "text": [
      "Error processing C:\\Research\\rna_3d\\RNASOLO_PDB_FILES_NOISED\\4V42_1_BA.pdb: index 20 is out of bounds for dimension 0 with size 11\n",
      "Error processing C:\\Research\\rna_3d\\RNASOLO_PDB_FILES_NOISED\\4V42_1_BB.pdb: index 3 is out of bounds for dimension 0 with size 1\n"
     ]
    },
    {
     "name": "stderr",
     "output_type": "stream",
     "text": [
      " 25%|██▌       | 3321/13223 [07:48<33:46,  4.89it/s]"
     ]
    },
    {
     "name": "stdout",
     "output_type": "stream",
     "text": [
      "Error processing C:\\Research\\rna_3d\\RNASOLO_PDB_FILES_NOISED\\4V47_1_A0.pdb: index 3 is out of bounds for dimension 0 with size 1\n",
      "Error processing C:\\Research\\rna_3d\\RNASOLO_PDB_FILES_NOISED\\4V47_1_A9.pdb: index 3 is out of bounds for dimension 0 with size 1\n"
     ]
    },
    {
     "name": "stderr",
     "output_type": "stream",
     "text": [
      " 25%|██▌       | 3323/13223 [07:49<32:42,  5.04it/s]"
     ]
    },
    {
     "name": "stdout",
     "output_type": "stream",
     "text": [
      "Error processing C:\\Research\\rna_3d\\RNASOLO_PDB_FILES_NOISED\\4V47_1_BA.pdb: index 3 is out of bounds for dimension 0 with size 1\n"
     ]
    },
    {
     "name": "stderr",
     "output_type": "stream",
     "text": [
      " 25%|██▌       | 3324/13223 [07:49<40:19,  4.09it/s]"
     ]
    },
    {
     "name": "stdout",
     "output_type": "stream",
     "text": [
      "Error processing C:\\Research\\rna_3d\\RNASOLO_PDB_FILES_NOISED\\4V48_1_A0.pdb: index 20 is out of bounds for dimension 0 with size 1\n",
      "Error processing C:\\Research\\rna_3d\\RNASOLO_PDB_FILES_NOISED\\4V48_1_A9.pdb: index 3 is out of bounds for dimension 0 with size 1\n"
     ]
    },
    {
     "name": "stderr",
     "output_type": "stream",
     "text": [
      " 25%|██▌       | 3326/13223 [07:49<36:32,  4.51it/s]"
     ]
    },
    {
     "name": "stdout",
     "output_type": "stream",
     "text": [
      "Error processing C:\\Research\\rna_3d\\RNASOLO_PDB_FILES_NOISED\\4V48_1_BA.pdb: index 3 is out of bounds for dimension 0 with size 1\n"
     ]
    },
    {
     "name": "stderr",
     "output_type": "stream",
     "text": [
      " 29%|██▉       | 3851/13223 [11:10<40:52,  3.82it/s]  "
     ]
    },
    {
     "name": "stdout",
     "output_type": "stream",
     "text": [
      "Error processing C:\\Research\\rna_3d\\RNASOLO_PDB_FILES_NOISED\\4V7F_1_1.pdb: index 20 is out of bounds for dimension 0 with size 6\n",
      "Error processing C:\\Research\\rna_3d\\RNASOLO_PDB_FILES_NOISED\\4V7F_1_2.pdb: index 20 is out of bounds for dimension 0 with size 6\n",
      "Error processing C:\\Research\\rna_3d\\RNASOLO_PDB_FILES_NOISED\\4V7F_1_3.pdb: index 20 is out of bounds for dimension 0 with size 6\n"
     ]
    },
    {
     "name": "stderr",
     "output_type": "stream",
     "text": [
      " 37%|███▋      | 4935/13223 [16:18<11:56, 11.57it/s]  "
     ]
    },
    {
     "name": "stdout",
     "output_type": "stream",
     "text": [
      "Error processing C:\\Research\\rna_3d\\RNASOLO_PDB_FILES_NOISED\\4Z92_1_D.pdb: index 20 is out of bounds for dimension 0 with size 20\n"
     ]
    },
    {
     "name": "stderr",
     "output_type": "stream",
     "text": [
      " 41%|████▏     | 5459/13223 [17:51<12:40, 10.21it/s]  "
     ]
    },
    {
     "name": "stdout",
     "output_type": "stream",
     "text": [
      "Error processing C:\\Research\\rna_3d\\RNASOLO_PDB_FILES_NOISED\\5GXI_1_B.pdb: index 20 is out of bounds for dimension 0 with size 20\n"
     ]
    },
    {
     "name": "stderr",
     "output_type": "stream",
     "text": [
      " 42%|████▏     | 5550/13223 [18:09<31:08,  4.11it/s]"
     ]
    },
    {
     "name": "stdout",
     "output_type": "stream",
     "text": [
      "Error processing C:\\Research\\rna_3d\\RNASOLO_PDB_FILES_NOISED\\5I9G_1_A.pdb: index 20 is out of bounds for dimension 0 with size 20\n"
     ]
    },
    {
     "name": "stderr",
     "output_type": "stream",
     "text": [
      " 45%|████▌     | 5983/13223 [20:21<30:29,  3.96it/s]  "
     ]
    },
    {
     "name": "stdout",
     "output_type": "stream",
     "text": [
      "Error processing C:\\Research\\rna_3d\\RNASOLO_PDB_FILES_NOISED\\5MJV_1_D.pdb: index 20 is out of bounds for dimension 0 with size 20\n"
     ]
    },
    {
     "name": "stderr",
     "output_type": "stream",
     "text": [
      " 47%|████▋     | 6231/13223 [21:21<23:38,  4.93it/s]  "
     ]
    },
    {
     "name": "stdout",
     "output_type": "stream",
     "text": [
      "Error processing C:\\Research\\rna_3d\\RNASOLO_PDB_FILES_NOISED\\5T2C_1_AA.pdb: 'float' object has no attribute 'split'\n"
     ]
    },
    {
     "name": "stderr",
     "output_type": "stream",
     "text": [
      " 51%|█████     | 6717/13223 [22:47<09:03, 11.96it/s]  "
     ]
    },
    {
     "name": "stdout",
     "output_type": "stream",
     "text": [
      "Error processing C:\\Research\\rna_3d\\RNASOLO_PDB_FILES_NOISED\\5ZSE_1_C.pdb: index 20 is out of bounds for dimension 0 with size 20\n",
      "Error processing C:\\Research\\rna_3d\\RNASOLO_PDB_FILES_NOISED\\5ZSE_1_D.pdb: index 20 is out of bounds for dimension 0 with size 20\n",
      "Error processing C:\\Research\\rna_3d\\RNASOLO_PDB_FILES_NOISED\\5ZSM_1_D.pdb: index 20 is out of bounds for dimension 0 with size 20\n",
      "Error processing C:\\Research\\rna_3d\\RNASOLO_PDB_FILES_NOISED\\5ZSM_1_E.pdb: index 20 is out of bounds for dimension 0 with size 20\n"
     ]
    },
    {
     "name": "stderr",
     "output_type": "stream",
     "text": [
      " 51%|█████     | 6721/13223 [22:47<10:36, 10.22it/s]"
     ]
    },
    {
     "name": "stdout",
     "output_type": "stream",
     "text": [
      "Error processing C:\\Research\\rna_3d\\RNASOLO_PDB_FILES_NOISED\\5ZZM_1_M.pdb: index 3 is out of bounds for dimension 0 with size 1\n"
     ]
    },
    {
     "name": "stderr",
     "output_type": "stream",
     "text": [
      " 51%|█████     | 6730/13223 [22:48<10:20, 10.46it/s]"
     ]
    },
    {
     "name": "stdout",
     "output_type": "stream",
     "text": [
      "Error processing C:\\Research\\rna_3d\\RNASOLO_PDB_FILES_NOISED\\5ZZM_1_N.pdb: index 3 is out of bounds for dimension 0 with size 1\n"
     ]
    },
    {
     "name": "stderr",
     "output_type": "stream",
     "text": [
      " 54%|█████▍    | 7119/13223 [23:56<16:47,  6.06it/s]"
     ]
    },
    {
     "name": "stdout",
     "output_type": "stream",
     "text": [
      "Error processing C:\\Research\\rna_3d\\RNASOLO_PDB_FILES_NOISED\\6EM3_1_1.pdb: index 20 is out of bounds for dimension 0 with size 12\n",
      "Error processing C:\\Research\\rna_3d\\RNASOLO_PDB_FILES_NOISED\\6EM3_1_2.pdb: index 20 is out of bounds for dimension 0 with size 12\n",
      "Error processing C:\\Research\\rna_3d\\RNASOLO_PDB_FILES_NOISED\\6EM3_1_6.pdb: index 20 is out of bounds for dimension 0 with size 12\n"
     ]
    },
    {
     "name": "stderr",
     "output_type": "stream",
     "text": [
      " 54%|█████▍    | 7121/13223 [23:57<17:52,  5.69it/s]"
     ]
    },
    {
     "name": "stdout",
     "output_type": "stream",
     "text": [
      "Error processing C:\\Research\\rna_3d\\RNASOLO_PDB_FILES_NOISED\\6EM4_1_1.pdb: index 20 is out of bounds for dimension 0 with size 12\n",
      "Error processing C:\\Research\\rna_3d\\RNASOLO_PDB_FILES_NOISED\\6EM4_1_2.pdb: index 20 is out of bounds for dimension 0 with size 12\n",
      "Error processing C:\\Research\\rna_3d\\RNASOLO_PDB_FILES_NOISED\\6EM4_1_6.pdb: index 20 is out of bounds for dimension 0 with size 12\n"
     ]
    },
    {
     "name": "stderr",
     "output_type": "stream",
     "text": [
      " 54%|█████▍    | 7124/13223 [23:57<19:29,  5.22it/s]"
     ]
    },
    {
     "name": "stdout",
     "output_type": "stream",
     "text": [
      "Error processing C:\\Research\\rna_3d\\RNASOLO_PDB_FILES_NOISED\\6EM5_1_1.pdb: index 20 is out of bounds for dimension 0 with size 12\n",
      "Error processing C:\\Research\\rna_3d\\RNASOLO_PDB_FILES_NOISED\\6EM5_1_2.pdb: index 20 is out of bounds for dimension 0 with size 12\n",
      "Error processing C:\\Research\\rna_3d\\RNASOLO_PDB_FILES_NOISED\\6EM5_1_6.pdb: index 20 is out of bounds for dimension 0 with size 12\n"
     ]
    },
    {
     "name": "stderr",
     "output_type": "stream",
     "text": [
      " 55%|█████▍    | 7207/13223 [24:16<21:52,  4.58it/s]"
     ]
    },
    {
     "name": "stdout",
     "output_type": "stream",
     "text": [
      "Error processing C:\\Research\\rna_3d\\RNASOLO_PDB_FILES_NOISED\\6G4S_1_2.pdb: index 20 is out of bounds for dimension 0 with size 12\n"
     ]
    },
    {
     "name": "stderr",
     "output_type": "stream",
     "text": [
      " 55%|█████▍    | 7208/13223 [24:17<24:05,  4.16it/s]"
     ]
    },
    {
     "name": "stdout",
     "output_type": "stream",
     "text": [
      "Error processing C:\\Research\\rna_3d\\RNASOLO_PDB_FILES_NOISED\\6G4W_1_2.pdb: index 20 is out of bounds for dimension 0 with size 12\n"
     ]
    },
    {
     "name": "stderr",
     "output_type": "stream",
     "text": [
      " 55%|█████▍    | 7209/13223 [24:17<26:50,  3.74it/s]"
     ]
    },
    {
     "name": "stdout",
     "output_type": "stream",
     "text": [
      "Error processing C:\\Research\\rna_3d\\RNASOLO_PDB_FILES_NOISED\\6G51_1_2.pdb: index 20 is out of bounds for dimension 0 with size 12\n"
     ]
    },
    {
     "name": "stderr",
     "output_type": "stream",
     "text": [
      " 55%|█████▍    | 7210/13223 [24:18<30:03,  3.33it/s]"
     ]
    },
    {
     "name": "stdout",
     "output_type": "stream",
     "text": [
      "Error processing C:\\Research\\rna_3d\\RNASOLO_PDB_FILES_NOISED\\6G53_1_2.pdb: index 20 is out of bounds for dimension 0 with size 12\n"
     ]
    },
    {
     "name": "stderr",
     "output_type": "stream",
     "text": [
      " 62%|██████▏   | 8200/13223 [28:33<10:49,  7.74it/s]  "
     ]
    },
    {
     "name": "stdout",
     "output_type": "stream",
     "text": [
      "Error processing C:\\Research\\rna_3d\\RNASOLO_PDB_FILES_NOISED\\6PPP_1_A.pdb: index 20 is out of bounds for dimension 0 with size 20\n",
      "Error processing C:\\Research\\rna_3d\\RNASOLO_PDB_FILES_NOISED\\6PPP_1_I.pdb: index 20 is out of bounds for dimension 0 with size 20\n"
     ]
    },
    {
     "name": "stderr",
     "output_type": "stream",
     "text": [
      " 70%|██████▉   | 9191/13223 [33:26<30:17,  2.22it/s]"
     ]
    },
    {
     "name": "stdout",
     "output_type": "stream",
     "text": [
      "Error processing C:\\Research\\rna_3d\\RNASOLO_PDB_FILES_NOISED\\6YBW_1_7.pdb: index 20 is out of bounds for dimension 0 with size 12\n"
     ]
    },
    {
     "name": "stderr",
     "output_type": "stream",
     "text": [
      " 70%|███████   | 9316/13223 [33:40<04:40, 13.95it/s]"
     ]
    },
    {
     "name": "stdout",
     "output_type": "stream",
     "text": [
      "Error processing C:\\Research\\rna_3d\\RNASOLO_PDB_FILES_NOISED\\6YRB_1_C.pdb: index 20 is out of bounds for dimension 0 with size 20\n",
      "Error processing C:\\Research\\rna_3d\\RNASOLO_PDB_FILES_NOISED\\6YRB_1_D.pdb: index 20 is out of bounds for dimension 0 with size 20\n"
     ]
    },
    {
     "name": "stderr",
     "output_type": "stream",
     "text": [
      " 71%|███████▏  | 9447/13223 [34:32<36:11,  1.74it/s]"
     ]
    },
    {
     "name": "stdout",
     "output_type": "stream",
     "text": [
      "Error processing C:\\Research\\rna_3d\\RNASOLO_PDB_FILES_NOISED\\6ZMW_1_7.pdb: index 20 is out of bounds for dimension 0 with size 12\n"
     ]
    },
    {
     "name": "stderr",
     "output_type": "stream",
     "text": [
      " 75%|███████▍  | 9903/13223 [36:41<03:18, 16.71it/s]"
     ]
    },
    {
     "name": "stdout",
     "output_type": "stream",
     "text": [
      "Error processing C:\\Research\\rna_3d\\RNASOLO_PDB_FILES_NOISED\\7DA7_1_C.pdb: index 20 is out of bounds for dimension 0 with size 14\n",
      "Error processing C:\\Research\\rna_3d\\RNASOLO_PDB_FILES_NOISED\\7DAS_1_C.pdb: index 20 is out of bounds for dimension 0 with size 12\n"
     ]
    },
    {
     "name": "stderr",
     "output_type": "stream",
     "text": [
      " 79%|███████▉  | 10437/13223 [37:51<08:59,  5.17it/s]"
     ]
    },
    {
     "name": "stdout",
     "output_type": "stream",
     "text": [
      "Error processing C:\\Research\\rna_3d\\RNASOLO_PDB_FILES_NOISED\\7MQ9_1_N0.pdb: index 20 is out of bounds for dimension 0 with size 12\n"
     ]
    },
    {
     "name": "stderr",
     "output_type": "stream",
     "text": [
      " 85%|████████▍ | 11232/13223 [41:40<13:07,  2.53it/s]"
     ]
    },
    {
     "name": "stdout",
     "output_type": "stream",
     "text": [
      "Error processing C:\\Research\\rna_3d\\RNASOLO_PDB_FILES_NOISED\\7QP6_1_7.pdb: index 20 is out of bounds for dimension 0 with size 12\n"
     ]
    },
    {
     "name": "stderr",
     "output_type": "stream",
     "text": [
      " 87%|████████▋ | 11521/13223 [42:56<07:04,  4.01it/s]"
     ]
    },
    {
     "name": "stdout",
     "output_type": "stream",
     "text": [
      "Error processing C:\\Research\\rna_3d\\RNASOLO_PDB_FILES_NOISED\\7SYP_1_7.pdb: index 20 is out of bounds for dimension 0 with size 12\n"
     ]
    },
    {
     "name": "stderr",
     "output_type": "stream",
     "text": [
      "100%|██████████| 13223/13223 [49:26<00:00,  4.46it/s]"
     ]
    },
    {
     "name": "stdout",
     "output_type": "stream",
     "text": [
      "Graph data saved in zipped format in 'graph_pdb_files_noise' folder.\n"
     ]
    },
    {
     "name": "stderr",
     "output_type": "stream",
     "text": [
      "\n"
     ]
    }
   ],
   "source": [
    "import glob\n",
    "import os\n",
    "import zipfile\n",
    "from tqdm import tqdm\n",
    "\n",
    "# Define paths\n",
    "pdb_files_directory = r\"C:\\Research\\rna_3d\\RNASOLO_PDB_FILES_NOISED\"\n",
    "output_directory = r\"C:\\Research\\rna_3d\\graph_pdb_files_noised\"\n",
    "\n",
    "# Ensure output directory exists or create it\n",
    "os.makedirs(output_directory, exist_ok=True)\n",
    "\n",
    "# Collect all PDB file paths\n",
    "all_pdb_files = glob.glob(os.path.join(pdb_files_directory, \"*\"))\n",
    "\n",
    "# Initialize featurizer\n",
    "featurizer = RNAGraphFeaturizer()\n",
    "\n",
    "# Process each PDB file\n",
    "for pdb_file in tqdm(all_pdb_files):\n",
    "    try:\n",
    "        # Featurize from PDB file\n",
    "        graph_data = featurizer.featurize_from_pdb_file(pdb_file)\n",
    "\n",
    "        # Extract filename without extension\n",
    "        filename = os.path.splitext(os.path.basename(pdb_file))[0]\n",
    "\n",
    "        # Create a zip file for each graph data\n",
    "        zip_file_path = os.path.join(output_directory, f\"{filename}.zip\")\n",
    "        with zipfile.ZipFile(zip_file_path, 'w', zipfile.ZIP_DEFLATED) as zipf:\n",
    "            # Write graph data to a temporary file in the ZIP archive\n",
    "            zipf.writestr(f\"{filename}.graph\", str(graph_data))\n",
    "\n",
    "    except Exception as e:\n",
    "        print(f\"Error processing {pdb_file}: {e}\")\n",
    "\n",
    "print(\"Graph data saved in zipped format in 'graph_pdb_files_noise' folder.\")\n"
   ]
  },
  {
   "cell_type": "code",
   "execution_count": null,
   "metadata": {},
   "outputs": [],
   "source": []
  },
  {
   "cell_type": "code",
   "execution_count": 17,
   "metadata": {},
   "outputs": [],
   "source": [
    "import sys\n",
    "total_size = sum(sys.getsizeof(obj) for obj in all_graph_data)\n",
    "total_size_gb = total_size / (1024**3)  # 1024 bytes in a kilobyte, 1024 kilobytes in a megabyte, 1024 megabytes in a gigabyte\n"
   ]
  },
  {
   "cell_type": "code",
   "execution_count": 18,
   "metadata": {},
   "outputs": [
    {
     "data": {
      "text/plain": [
       "0.0006855130195617676"
      ]
     },
     "execution_count": 18,
     "metadata": {},
     "output_type": "execute_result"
    }
   ],
   "source": [
    "total_size_gb"
   ]
  },
  {
   "cell_type": "code",
   "execution_count": 19,
   "metadata": {},
   "outputs": [
    {
     "ename": "AttributeError",
     "evalue": "'list' object has no attribute 'items'",
     "output_type": "error",
     "traceback": [
      "\u001b[1;31m---------------------------------------------------------------------------\u001b[0m",
      "\u001b[1;31mAttributeError\u001b[0m                            Traceback (most recent call last)",
      "Cell \u001b[1;32mIn[19], line 5\u001b[0m\n\u001b[0;32m      2\u001b[0m \u001b[38;5;28;01mimport\u001b[39;00m \u001b[38;5;21;01mpickle\u001b[39;00m\n\u001b[0;32m      4\u001b[0m \u001b[38;5;66;03m# Example: Zip individual graphs\u001b[39;00m\n\u001b[1;32m----> 5\u001b[0m \u001b[38;5;28;01mfor\u001b[39;00m graph_name, graph_data \u001b[38;5;129;01min\u001b[39;00m all_graph_data\u001b[38;5;241m.\u001b[39mitems():\n\u001b[0;32m      6\u001b[0m     \u001b[38;5;28;01mwith\u001b[39;00m zipfile\u001b[38;5;241m.\u001b[39mZipFile(\u001b[38;5;124mf\u001b[39m\u001b[38;5;124m\"\u001b[39m\u001b[38;5;132;01m{\u001b[39;00mgraph_name\u001b[38;5;132;01m}\u001b[39;00m\u001b[38;5;124m.zip\u001b[39m\u001b[38;5;124m\"\u001b[39m, \u001b[38;5;124m\"\u001b[39m\u001b[38;5;124mw\u001b[39m\u001b[38;5;124m\"\u001b[39m, zipfile\u001b[38;5;241m.\u001b[39mZIP_DEFLATED) \u001b[38;5;28;01mas\u001b[39;00m zipf:\n\u001b[0;32m      7\u001b[0m         zipf\u001b[38;5;241m.\u001b[39mwritestr(\u001b[38;5;124m\"\u001b[39m\u001b[38;5;124mdata.pkl\u001b[39m\u001b[38;5;124m\"\u001b[39m, pickle\u001b[38;5;241m.\u001b[39mdumps(graph_data))\n",
      "\u001b[1;31mAttributeError\u001b[0m: 'list' object has no attribute 'items'"
     ]
    }
   ],
   "source": [
    "import zipfile\n",
    "import pickle\n",
    "\n",
    "# Example: Zip individual graphs\n",
    "for graph_name, graph_data in all_graph_data:\n",
    "    with zipfile.ZipFile(f\"{graph_name}.zip\", \"w\", zipfile.ZIP_DEFLATED) as zipf:\n",
    "        zipf.writestr(\"data.pkl\", pickle.dumps(graph_data))\n"
   ]
  }
 ],
 "metadata": {
  "kernelspec": {
   "display_name": "thesis",
   "language": "python",
   "name": "python3"
  },
  "language_info": {
   "codemirror_mode": {
    "name": "ipython",
    "version": 3
   },
   "file_extension": ".py",
   "mimetype": "text/x-python",
   "name": "python",
   "nbconvert_exporter": "python",
   "pygments_lexer": "ipython3",
   "version": "3.12.4"
  }
 },
 "nbformat": 4,
 "nbformat_minor": 2
}
